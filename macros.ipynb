{
 "cells": [
  {
   "cell_type": "markdown",
   "metadata": {
    "collapsed": true
   },
   "source": [
    "# Creation of macrofiles\n",
    "Done by: Sebastian Sarasti"
   ]
  },
  {
   "cell_type": "code",
   "execution_count": 1,
   "outputs": [],
   "source": [
    "import numpy as np\n",
    "import pandas as pd\n",
    "import matplotlib.pyplot as plt\n",
    "from functions import plot_box_3d, trajectory"
   ],
   "metadata": {
    "collapsed": false
   }
  },
  {
   "cell_type": "code",
   "execution_count": 2,
   "outputs": [],
   "source": [
    "# create an x axis coordinate\n",
    "x = np.linspace(0, 1, 200, endpoint=True)\n",
    "y = np.linspace(0, 0.2, 20, endpoint=True)\n",
    "z = np.linspace(0, 0.2, 20, endpoint=True)\n",
    "# save the combinations in an array\n",
    "pos = []\n",
    "for i in range(len(x)):\n",
    "    for j in range(len(y)):\n",
    "        for k in range(len(z)):\n",
    "            pos.append([x[i] - 0.5, y[j] - 0.1, z[k] - 0.1])\n",
    "# transform the position array into a numpy array\n",
    "pos = np.array(pos)\n",
    "pos = np.round(pos, 5)"
   ],
   "metadata": {
    "collapsed": false
   }
  },
  {
   "cell_type": "code",
   "execution_count": 3,
   "outputs": [],
   "source": [
    "np.savetxt('positions.txt', pos, fmt='%1.4e')"
   ],
   "metadata": {
    "collapsed": false
   }
  },
  {
   "cell_type": "code",
   "execution_count": 4,
   "outputs": [],
   "source": [
    "# fig = plt.figure()\n",
    "# ax = plt.axes(projection='3d')\n",
    "# plot_box_3d(1, 0.2, 0.2, ax)\n",
    "# for i in range(len(pos)):\n",
    "#     ax.scatter3D(pos[i, 0], pos[i, 1], pos[i, 2], color='red')\n",
    "# ax.set_xlabel('X axis')\n",
    "# ax.set_ylabel('Y axis')\n",
    "# ax.set_zlabel('Z axis')"
   ],
   "metadata": {
    "collapsed": false
   }
  },
  {
   "cell_type": "code",
   "execution_count": 5,
   "outputs": [],
   "source": [
    "# create the files for the first detector arrays\n",
    "for j in range(len(pos)):\n",
    "    nombre = \"dea_1_pos\" + str(j + 1) + \".mac\"  #paso el valor de la lista a cadena, me parece más legible\n",
    "    archivo = open('D:/MASTER/2DO SEMESTRE/TFM/Data/macros/a1/' + nombre, 'w')\n",
    "    archivo.write(\"/NaI/detector1/dimensions -40 0 -20 cm \\n\")\n",
    "    archivo.write(\"/NaI/detector1/angle 90 deg \\n\")\n",
    "    archivo.write(\"/NaI/detector1/rotZ true \\n\")\n",
    "    archivo.write(\"/NaI/detector2/dimensions -20 -20 0 cm \\n\")\n",
    "    archivo.write(\"/NaI/detector2/angle 90 deg \\n\")\n",
    "    archivo.write(\"/NaI/detector2/rotX true \\n\")\n",
    "    archivo.write(\"/NaI/detector3/dimensions 20 0 20 cm \\n\")\n",
    "    archivo.write(\"/NaI/detector3/angle 180 deg \\n\")\n",
    "    archivo.write(\"/NaI/detector3/rotY true \\n\")\n",
    "    archivo.write(\"/NaI/detector4/dimensions 40 0 -20 cm \\n\")\n",
    "    archivo.write(\"/NaI/detector4/angle 90 deg \\n\")\n",
    "    archivo.write(\"/NaI/detector4/rotZ true \\n\")\n",
    "    archivo.write(\"/pipe/box/activate true\\n\")\n",
    "    archivo.write(\"/pipe/box/dim 50 10 10 cm \\n\")\n",
    "    archivo.write(\"/process/verbose 0 \\n\")\n",
    "    archivo.write(\"/run/verbose 0 \\n\")\n",
    "    archivo.write(\"/event/verbose 0 \\n\")\n",
    "    archivo.write(\"/tracking/verbose 0 \\n\")\n",
    "    archivo.write(\"/process/em/verbose 0 \\n\")\n",
    "    archivo.write(\"/vis/verbose 0 \\n\")\n",
    "    archivo.write(\"/process/eLoss/verbose 0 \\n\")\n",
    "    archivo.write(\"/control/verbose 0 \\n\")\n",
    "    archivo.write(\"/control/cout/useBuffer 1 \\n\")\n",
    "    archivo.write(\"/run/numberOfThreads 120 \\n\")\n",
    "    archivo.write(\"/run/initialize \\n\")\n",
    "    archivo.write(\"/gps/particle gamma \\n\")\n",
    "    archivo.write(\"/gps/energy 662 keV \\n\")\n",
    "    archivo.write(\"/gps/pos/type Point \\n\")\n",
    "    archivo.write(\"/gps/ang/type iso \\n\")\n",
    "    archivo.write(\"/gps/pos/centre \" + str(pos[j, 0]) + \" \" + str(pos[j, 1]) + \" \" + str(pos[j, 2]) + \" m\" + \"\\n\")\n",
    "    archivo.write(\"/run/beamOn 1000000 \\n\")\n",
    "    archivo.close()"
   ],
   "metadata": {
    "collapsed": false
   }
  },
  {
   "cell_type": "code",
   "execution_count": 6,
   "outputs": [],
   "source": [
    "# create the files for the second detector arrays\n",
    "for j in range(len(pos)):\n",
    "    nombre = \"dea_2_pos\" + str(j + 1) + \".mac\"  #paso el valor de la lista a cadena, me parece más legible\n",
    "    archivo = open('D:/MASTER/2DO SEMESTRE/TFM/Data/macros/a2/' + nombre, 'w')\n",
    "    archivo.write(\"/NaI/detector1/dimensions 0 20 0 cm \\n\")\n",
    "    archivo.write(\"/NaI/detector1/angle 270 deg \\n\")\n",
    "    archivo.write(\"/NaI/detector1/rotX true \\n\")\n",
    "    archivo.write(\"/NaI/detector2/dimensions 0 -20 0 cm \\n\")\n",
    "    archivo.write(\"/NaI/detector2/angle 90 deg \\n\")\n",
    "    archivo.write(\"/NaI/detector2/rotX true \\n\")\n",
    "    archivo.write(\"/NaI/detector3/dimensions 20 20 0 cm \\n\")\n",
    "    archivo.write(\"/NaI/detector3/angle 270 deg \\n\")\n",
    "    archivo.write(\"/NaI/detector3/rotX true \\n\")\n",
    "    archivo.write(\"/NaI/detector4/dimensions -20 0 20 cm \\n\")\n",
    "    archivo.write(\"/NaI/detector4/angle 180 deg \\n\")\n",
    "    archivo.write(\"/NaI/detector4/rotX true \\n\")\n",
    "    archivo.write(\"/pipe/box/activate true\\n\")\n",
    "    archivo.write(\"/pipe/box/dim 50 10 10 cm \\n\")\n",
    "    archivo.write(\"/process/verbose 0 \\n\")\n",
    "    archivo.write(\"/run/verbose 0 \\n\")\n",
    "    archivo.write(\"/event/verbose 0 \\n\")\n",
    "    archivo.write(\"/tracking/verbose 0 \\n\")\n",
    "    archivo.write(\"/process/em/verbose 0 \\n\")\n",
    "    archivo.write(\"/vis/verbose 0 \\n\")\n",
    "    archivo.write(\"/process/eLoss/verbose 0 \\n\")\n",
    "    archivo.write(\"/control/verbose 0 \\n\")\n",
    "    archivo.write(\"/control/cout/useBuffer 1 \\n\")\n",
    "    archivo.write(\"/run/numberOfThreads 120 \\n\")\n",
    "    archivo.write(\"/run/initialize \\n\")\n",
    "    archivo.write(\"/gps/particle gamma \\n\")\n",
    "    archivo.write(\"/gps/energy 662 keV \\n\")\n",
    "    archivo.write(\"/gps/pos/type Point \\n\")\n",
    "    archivo.write(\"/gps/ang/type iso \\n\")\n",
    "    archivo.write(\"/gps/pos/centre \" + str(pos[j, 0]) + \" \" + str(pos[j, 1]) + \" \" + str(pos[j, 2]) + \" m\" + \"\\n\")\n",
    "    archivo.write(\"/run/beamOn 1000000 \\n\")\n",
    "    archivo.close()"
   ],
   "metadata": {
    "collapsed": false
   }
  },
  {
   "cell_type": "code",
   "execution_count": 6,
   "outputs": [],
   "source": [],
   "metadata": {
    "collapsed": false
   }
  }
 ],
 "metadata": {
  "kernelspec": {
   "name": "python3",
   "language": "python",
   "display_name": "Python 3 (ipykernel)"
  },
  "language_info": {
   "codemirror_mode": {
    "name": "ipython",
    "version": 2
   },
   "file_extension": ".py",
   "mimetype": "text/x-python",
   "name": "python",
   "nbconvert_exporter": "python",
   "pygments_lexer": "ipython2",
   "version": "2.7.6"
  }
 },
 "nbformat": 4,
 "nbformat_minor": 0
}
